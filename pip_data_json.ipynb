{
 "cells": [
  {
   "cell_type": "code",
   "execution_count": 2,
   "metadata": {},
   "outputs": [
    {
     "name": "stdout",
     "output_type": "stream",
     "text": [
      "{'1960': 54211, '1961': 55438, '1962': 56225, '1963': 56695, '1964': 57032, '1965': 57360, '1966': 57715, '1967': 58055, '1968': 58386, '1969': 58726, '1970': 59063, '1971': 59440, '1972': 59840, '1973': 60243, '1974': 60528, '1975': 60657, '1976': 60586, '1977': 60366, '1978': 60103, '1979': 59980, '1980': 60096, '1981': 60567, '1982': 61345, '1983': 62201, '1984': 62836, '1985': 63026, '1986': 62644, '1987': 61833, '1988': 61079, '1989': 61032, '1990': 62149, '1991': 64622, '1992': 68235, '1993': 72504, '1994': 76700, '1995': 80324, '1996': 83200, '1997': 85451, '1998': 87277, '1999': 89005, '2000': 90853, '2001': 92898, '2002': 94992, '2003': 97017, '2004': 98737, '2005': 100031, '2006': 100832, '2007': 101220, '2008': 101353, '2009': 101453, '2010': 101669, '2011': 102053, '2012': 102577, '2013': 103187, '2014': 103795, '2015': 104341, '2016': 104822, '2017': 105264, 'Country Name': 'Aruba', 'Country Code': 'ABW', 'Indicator Name': 'Population, total', 'Indicator Code': 'SP.POP.TOTL'}\n",
      "\n",
      "\n",
      "Aruba\n",
      "ABW\n"
     ]
    },
    {
     "name": "stderr",
     "output_type": "stream",
     "text": [
      "<>:3: SyntaxWarning: invalid escape sequence '\\p'\n",
      "<>:3: SyntaxWarning: invalid escape sequence '\\p'\n",
      "C:\\Users\\namra\\AppData\\Local\\Temp\\ipykernel_3788\\31710598.py:3: SyntaxWarning: invalid escape sequence '\\p'\n",
      "  with open(\"Datasets\\population_data.json\") as f:\n"
     ]
    }
   ],
   "source": [
    "import json\n",
    "\n",
    "with open(\"Datasets\\population_data.json\") as f:\n",
    "    json_data = json.load(f)\n",
    "        \n",
    "print(json_data[0])\n",
    "print('\\n')\n",
    "\n",
    "print(json_data[0][\"Country Name\"])\n",
    "print(json_data[0][\"Country Code\"])"
   ]
  },
  {
   "cell_type": "code",
   "execution_count": null,
   "metadata": {},
   "outputs": [],
   "source": [
    "\n"
   ]
  }
 ],
 "metadata": {
  "kernelspec": {
   "display_name": "Python 3",
   "language": "python",
   "name": "python3"
  },
  "language_info": {
   "codemirror_mode": {
    "name": "ipython",
    "version": 3
   },
   "file_extension": ".py",
   "mimetype": "text/x-python",
   "name": "python",
   "nbconvert_exporter": "python",
   "pygments_lexer": "ipython3",
   "version": "3.12.7"
  }
 },
 "nbformat": 4,
 "nbformat_minor": 2
}
