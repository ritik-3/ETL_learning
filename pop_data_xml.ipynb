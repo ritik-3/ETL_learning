{
 "cells": [
  {
   "cell_type": "code",
   "execution_count": 2,
   "metadata": {},
   "outputs": [],
   "source": [
    "from bs4 import BeautifulSoup"
   ]
  },
  {
   "cell_type": "code",
   "execution_count": 8,
   "metadata": {},
   "outputs": [
    {
     "name": "stdout",
     "output_type": "stream",
     "text": [
      "Country or Area :  Aruba\n",
      "Item :  Population, total\n",
      "Year :  1960\n",
      "Value :  54211\n",
      "\n",
      "Country or Area :  Aruba\n",
      "Item :  Population, total\n",
      "Year :  1961\n",
      "Value :  55438\n",
      "\n",
      "Country or Area :  Aruba\n",
      "Item :  Population, total\n",
      "Year :  1962\n",
      "Value :  56225\n",
      "\n",
      "Country or Area :  Aruba\n",
      "Item :  Population, total\n",
      "Year :  1963\n",
      "Value :  56695\n",
      "\n",
      "Country or Area :  Aruba\n",
      "Item :  Population, total\n",
      "Year :  1964\n",
      "Value :  57032\n",
      "\n"
     ]
    }
   ],
   "source": [
    "from bs4 import BeautifulSoup\n",
    "\n",
    "with open(r\"Datasets\\population_data.xml\") as fp:\n",
    "    soup = BeautifulSoup(fp,\"lxml\")\n",
    "i = 0\n",
    "for record in soup.find_all('record'):\n",
    "    i +=1\n",
    "    for record in record.find_all('field'):\n",
    "        print(record['name'],': ',record.text)\n",
    "    print()\n",
    "    if i == 5:\n",
    "        break"
   ]
  },
  {
   "cell_type": "code",
   "execution_count": null,
   "metadata": {},
   "outputs": [],
   "source": []
  }
 ],
 "metadata": {
  "kernelspec": {
   "display_name": "Python 3",
   "language": "python",
   "name": "python3"
  },
  "language_info": {
   "codemirror_mode": {
    "name": "ipython",
    "version": 3
   },
   "file_extension": ".py",
   "mimetype": "text/x-python",
   "name": "python",
   "nbconvert_exporter": "python",
   "pygments_lexer": "ipython3",
   "version": "3.12.7"
  }
 },
 "nbformat": 4,
 "nbformat_minor": 2
}
